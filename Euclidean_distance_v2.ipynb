{
  "nbformat": 4,
  "nbformat_minor": 0,
  "metadata": {
    "colab": {
      "provenance": []
    },
    "kernelspec": {
      "name": "python3",
      "display_name": "Python 3"
    },
    "language_info": {
      "name": "python"
    }
  },
  "cells": [
    {
      "cell_type": "code",
      "execution_count": null,
      "metadata": {
        "id": "-15ZUDJvDph9"
      },
      "outputs": [],
      "source": [
        "import pandas as pd\n",
        "import numpy as np\n",
        "from scipy.spatial.distance import cdist"
      ]
    },
    {
      "cell_type": "code",
      "source": [
        "np.random.seed(0)"
      ],
      "metadata": {
        "id": "ILgy0dobLDyW"
      },
      "execution_count": null,
      "outputs": []
    },
    {
      "cell_type": "code",
      "source": [
        "user_ids =[f\"{i:03d}\" for i in range(1, 101)]"
      ],
      "metadata": {
        "id": "TAa7-a55LD5h"
      },
      "execution_count": null,
      "outputs": []
    },
    {
      "cell_type": "code",
      "source": [
        "# 生成随机数据\n",
        "data = {\n",
        "    \"UserID\": [],\n",
        "    \"Period\": [],\n",
        "    \"PurchaseAmount\": [],\n",
        "    \"PurchaseCount\": []\n",
        "}"
      ],
      "metadata": {
        "id": "GaWQagsdLD82"
      },
      "execution_count": null,
      "outputs": []
    },
    {
      "cell_type": "code",
      "source": [
        "for user_id in user_ids:\n",
        "    for period in range(1, 14):\n",
        "        data[\"UserID\"].append(user_id)\n",
        "        data[\"Period\"].append(period)\n",
        "        data[\"PurchaseAmount\"].append(np.random.randint(0, 1000))  # 随机生成购买金额\n",
        "        data[\"PurchaseCount\"].append(np.random.randint(0, 20))     # 随机生成购买次数"
      ],
      "metadata": {
        "id": "iCpggsngLEDP"
      },
      "execution_count": null,
      "outputs": []
    },
    {
      "cell_type": "code",
      "source": [
        "df=pd.DataFrame(data)"
      ],
      "metadata": {
        "id": "m-n5MuVxLEGw"
      },
      "execution_count": null,
      "outputs": []
    },
    {
      "cell_type": "code",
      "source": [
        "print(df)"
      ],
      "metadata": {
        "colab": {
          "base_uri": "https://localhost:8080/"
        },
        "collapsed": true,
        "id": "BKEJ-e4sLEKB",
        "outputId": "59eeb302-621e-4900-81b8-7ef4df6654d4"
      },
      "execution_count": null,
      "outputs": [
        {
          "output_type": "stream",
          "name": "stdout",
          "text": [
            "     UserID  Period  PurchaseAmount  PurchaseCount\n",
            "0       001       1             684             15\n",
            "1       001       2             629              0\n",
            "2       001       3             835              3\n",
            "3       001       4             359              9\n",
            "4       001       5             723             18\n",
            "...     ...     ...             ...            ...\n",
            "1295    100       9             546             17\n",
            "1296    100      10             878              4\n",
            "1297    100      11             585              8\n",
            "1298    100      12             564             16\n",
            "1299    100      13             999             11\n",
            "\n",
            "[1300 rows x 4 columns]\n"
          ]
        }
      ]
    },
    {
      "cell_type": "code",
      "source": [
        "print(df)"
      ],
      "metadata": {
        "id": "hgCbmjmmLENH"
      },
      "execution_count": null,
      "outputs": []
    },
    {
      "cell_type": "code",
      "source": [
        "# Select test users (UserID 001 to 010)\n",
        "test_user_ids = [f\"{i:03d}\" for i in range(1, 11)]\n",
        "test_users_df = df[df[\"UserID\"].isin(test_user_ids)]"
      ],
      "metadata": {
        "id": "3wkKtmZcLEQZ"
      },
      "execution_count": null,
      "outputs": []
    },
    {
      "cell_type": "code",
      "source": [
        "# 打印结果\n",
        "print(filtered_df)"
      ],
      "metadata": {
        "colab": {
          "base_uri": "https://localhost:8080/"
        },
        "id": "jManwATVLEWg",
        "outputId": "eb8e3a50-3efb-4169-ebd4-8cc05b210675"
      },
      "execution_count": null,
      "outputs": [
        {
          "output_type": "stream",
          "name": "stdout",
          "text": [
            "    UserID  Period  PurchaseAmount  PurchaseCount\n",
            "0      001       1             684             15\n",
            "1      001       2             629              0\n",
            "2      001       3             835              3\n",
            "3      001       4             359              9\n",
            "4      001       5             723             18\n",
            "..     ...     ...             ...            ...\n",
            "125    010       9             297              3\n",
            "126    010      10             814             18\n",
            "127    010      11             876              3\n",
            "128    010      12             799              9\n",
            "129    010      13             394             13\n",
            "\n",
            "[130 rows x 4 columns]\n"
          ]
        }
      ]
    },
    {
      "cell_type": "code",
      "source": [
        "# Select remaining users (UserID 011 to 100)\n",
        "remaining_user_ids = [f\"{i:03d}\" for i in range(11, 101)]\n",
        "remaining_users_df = df[df[\"UserID\"].isin(remaining_user_ids)]"
      ],
      "metadata": {
        "id": "EAny6pzpLEaB"
      },
      "execution_count": null,
      "outputs": []
    },
    {
      "cell_type": "code",
      "source": [
        "# 结果1：\n",
        "# Initialize dictionary to store nearest neighbors\n",
        "nearest_neighbors = {}\n",
        "\n",
        "# Calculate Euclidean distance for each test user against all remaining users\n",
        "for test_user_id in test_user_ids:\n",
        "    # Get data for the test user\n",
        "    test_user_data = test_users_df[test_users_df[\"UserID\"] == test_user_id][[\"PurchaseAmount\", \"PurchaseCount\"]]\n",
        "\n",
        "    # Calculate the mean purchase behavior for the test user\n",
        "    test_user_vector = test_user_data.mean().values.reshape(1, -1)\n",
        "\n",
        "    # Store neighbors for current test user\n",
        "    neighbors_list = []\n",
        "\n",
        "    for remaining_user_id in remaining_user_ids:\n",
        "        # Get data for the remaining user\n",
        "        remaining_user_data = remaining_users_df[remaining_users_df[\"UserID\"] == remaining_user_id][[\"PurchaseAmount\", \"PurchaseCount\"]]\n",
        "\n",
        "        # Calculate the mean purchase behavior for the remaining user\n",
        "        remaining_user_vector = remaining_user_data.mean().values.reshape(1, -1)\n",
        "\n",
        "        # Compute Euclidean distance between test user and remaining user\n",
        "        distance = cdist(test_user_vector, remaining_user_vector, metric='euclidean')[0][0]\n",
        "\n",
        "        # Append user and distance to the list\n",
        "        neighbors_list.append((remaining_user_id, distance))\n",
        "\n",
        "    # Sort the neighbors list by distance and take the 20 nearest neighbors\n",
        "    neighbors_list = sorted(neighbors_list, key=lambda x: x[1])[:20]\n",
        "\n",
        "    # Store the result for the current test user\n",
        "    nearest_neighbors[test_user_id] = neighbors_list\n",
        "\n",
        "# Print the nearest neighbors for each test user\n",
        "for test_user_id, neighbors in nearest_neighbors.items():\n",
        "    print(f\"Test User: {test_user_id}\")\n",
        "    print(\"Nearest Neighbors (UserID, Distance):\")\n",
        "    for neighbor in neighbors:\n",
        "        print(neighbor)\n",
        "    print()"
      ],
      "metadata": {
        "colab": {
          "base_uri": "https://localhost:8080/"
        },
        "id": "KiR8GgYoLEde",
        "outputId": "9063654b-28a3-4803-a8c9-29f550bc0d9d"
      },
      "execution_count": null,
      "outputs": [
        {
          "output_type": "stream",
          "name": "stdout",
          "text": [
            "Test User: 001\n",
            "Nearest Neighbors (UserID, Distance):\n",
            "('037', 0.8770580193070341)\n",
            "('039', 7.294725337631262)\n",
            "('057', 7.693846000030771)\n",
            "('045', 7.747494345854919)\n",
            "('040', 8.656837089975028)\n",
            "('097', 8.924403084475783)\n",
            "('088', 9.930527912220247)\n",
            "('013', 10.007393716352068)\n",
            "('090', 10.245795789539569)\n",
            "('074', 10.394866734974011)\n",
            "('028', 10.53368785761457)\n",
            "('017', 11.701413458342342)\n",
            "('016', 12.538225575882624)\n",
            "('054', 14.849342025149822)\n",
            "('060', 15.896298553194988)\n",
            "('098', 16.29680333122325)\n",
            "('032', 16.410596951594822)\n",
            "('023', 18.420788359540516)\n",
            "('035', 19.001401380894773)\n",
            "('015', 19.664192670251737)\n",
            "\n",
            "Test User: 002\n",
            "Nearest Neighbors (UserID, Distance):\n",
            "('020', 12.861115193624029)\n",
            "('072', 14.235965787170512)\n",
            "('084', 20.697883149344197)\n",
            "('055', 21.424561473214)\n",
            "('100', 24.27029742871116)\n",
            "('043', 25.38508158080064)\n",
            "('094', 35.21514601525506)\n",
            "('099', 35.85143572839141)\n",
            "('024', 48.161279839095194)\n",
            "('079', 51.70695763101544)\n",
            "('041', 53.38461538461536)\n",
            "('052', 56.61559364509898)\n",
            "('092', 63.616547287300854)\n",
            "('059', 74.77401852350746)\n",
            "('096', 77.43414839254127)\n",
            "('069', 81.92917998213076)\n",
            "('076', 83.61570306357864)\n",
            "('068', 89.42287014037296)\n",
            "('081', 93.46470396665237)\n",
            "('065', 95.7034683078614)\n",
            "\n",
            "Test User: 003\n",
            "Nearest Neighbors (UserID, Distance):\n",
            "('059', 3.858441908918301)\n",
            "('092', 7.873632125025723)\n",
            "('096', 8.026951641982299)\n",
            "('069', 11.215215784315447)\n",
            "('076', 12.570511186077091)\n",
            "('052', 14.784647402510782)\n",
            "('041', 18.00476596996292)\n",
            "('068', 18.155312848182646)\n",
            "('081', 22.453370485382557)\n",
            "('024', 23.128148274419875)\n",
            "('065', 24.76206298581782)\n",
            "('082', 25.708884564720666)\n",
            "('025', 28.950988986796418)\n",
            "('042', 33.49927138658319)\n",
            "('086', 34.741394575368204)\n",
            "('099', 35.42881854411675)\n",
            "('094', 36.0782351737781)\n",
            "('053', 38.268206402989144)\n",
            "('036', 40.62194003041112)\n",
            "('062', 41.29529967378773)\n",
            "\n",
            "Test User: 004\n",
            "Nearest Neighbors (UserID, Distance):\n",
            "('025', 2.665803607871371)\n",
            "('042', 3.3881100839299694)\n",
            "('086', 4.111608619966989)\n",
            "('082', 5.086238539943568)\n",
            "('065', 7.086949419249922)\n",
            "('053', 7.538853992924063)\n",
            "('081', 8.907811876439446)\n",
            "('036', 10.327764612610487)\n",
            "('062', 10.597532368796621)\n",
            "('068', 12.643729881860196)\n",
            "('038', 16.277184816857233)\n",
            "('076', 18.44887386117552)\n",
            "('061', 19.483417315652243)\n",
            "('070', 19.85524538329271)\n",
            "('069', 20.267004694575405)\n",
            "('012', 22.6934810648396)\n",
            "('031', 22.935979848212988)\n",
            "('078', 23.553665275896964)\n",
            "('096', 25.030277523419702)\n",
            "('059', 27.246410110422406)\n",
            "\n",
            "Test User: 005\n",
            "Nearest Neighbors (UserID, Distance):\n",
            "('100', 1.8857924110970832)\n",
            "('043', 2.0438969623978878)\n",
            "('055', 4.714951667914378)\n",
            "('094', 9.082136703474136)\n",
            "('099', 9.837135292819346)\n",
            "('072', 12.040366032691141)\n",
            "('020', 13.388151610670354)\n",
            "('024', 22.096212425442886)\n",
            "('041', 27.364945398929528)\n",
            "('052', 30.581155972129576)\n",
            "('092', 37.563988798287525)\n",
            "('084', 46.69237105558994)\n",
            "('059', 48.7010564506386)\n",
            "('096', 51.50802775370972)\n",
            "('069', 55.91477030679414)\n",
            "('076', 57.559025531347764)\n",
            "('068', 63.31334678925774)\n",
            "('081', 67.4324119212327)\n",
            "('065', 69.69031241837288)\n",
            "('082', 70.84682201305237)\n",
            "\n",
            "Test User: 006\n",
            "Nearest Neighbors (UserID, Distance):\n",
            "('047', 1.9246147697225677)\n",
            "('075', 2.071217233513273)\n",
            "('077', 5.960918081864411)\n",
            "('087', 6.124932073044426)\n",
            "('029', 7.80911317120645)\n",
            "('085', 8.23220691972881)\n",
            "('093', 8.963106498670513)\n",
            "('022', 9.172250406241258)\n",
            "('019', 9.551479949765332)\n",
            "('066', 13.882217990341513)\n",
            "('026', 14.697139761183587)\n",
            "('014', 14.793449693906894)\n",
            "('091', 16.024574323473352)\n",
            "('064', 17.43983741306331)\n",
            "('011', 22.125248636318997)\n",
            "('050', 22.809346158742716)\n",
            "('044', 32.63071120293681)\n",
            "('080', 32.7724808789109)\n",
            "('048', 33.632630675489004)\n",
            "('018', 33.83251473441548)\n",
            "\n",
            "Test User: 007\n",
            "Nearest Neighbors (UserID, Distance):\n",
            "('057', 2.023530221225524)\n",
            "('040', 3.1008683647302284)\n",
            "('097', 3.5518142709584968)\n",
            "('074', 4.9068241334821385)\n",
            "('028', 4.923076923076906)\n",
            "('037', 6.100732325814895)\n",
            "('017', 6.201736729460344)\n",
            "('054', 9.43398113205656)\n",
            "('039', 12.626870943447782)\n",
            "('045', 13.4049359451028)\n",
            "('078', 14.628334344021223)\n",
            "('031', 15.26356221073393)\n",
            "('012', 15.461538461538453)\n",
            "('088', 15.545695193630163)\n",
            "('090', 15.570606506563859)\n",
            "('013', 15.622203891828773)\n",
            "('016', 18.18901417577084)\n",
            "('070', 18.60521018838126)\n",
            "('061', 18.705123811531724)\n",
            "('060', 21.562761018058325)\n",
            "\n",
            "Test User: 008\n",
            "Nearest Neighbors (UserID, Distance):\n",
            "('043', 4.899583365936679)\n",
            "('099', 6.474803234313512)\n",
            "('100', 6.622536384624926)\n",
            "('094', 6.6319113776278265)\n",
            "('055', 9.15675454766338)\n",
            "('072', 15.775233379119367)\n",
            "('020', 17.706516033911736)\n",
            "('024', 18.45159988894015)\n",
            "('041', 23.54663005574785)\n",
            "('052', 26.779065390623)\n",
            "('092', 33.776589350697854)\n",
            "('059', 44.93637843116502)\n",
            "('096', 47.467771688930426)\n",
            "('084', 50.68460312642135)\n",
            "('069', 52.009614495783374)\n",
            "('076', 53.738628905903276)\n",
            "('068', 59.64039177739316)\n",
            "('081', 63.550380703611566)\n",
            "('065', 65.77143496081507)\n",
            "('082', 67.08936017373179)\n",
            "\n",
            "Test User: 009\n",
            "Nearest Neighbors (UserID, Distance):\n",
            "('016', 1.8621105287554025)\n",
            "('032', 2.944255262923795)\n",
            "('060', 3.3397374378603812)\n",
            "('098', 3.379366559459821)\n",
            "('013', 3.6447254586099134)\n",
            "('088', 3.7210420376762405)\n",
            "('090', 4.208332112796924)\n",
            "('023', 4.889307256021759)\n",
            "('035', 5.386812738465081)\n",
            "('045', 6.006899386262948)\n",
            "('015', 6.1754428727465545)\n",
            "('039', 6.753916242846422)\n",
            "('048', 8.309116687009722)\n",
            "('080', 9.186109915770384)\n",
            "('044', 9.571283480057497)\n",
            "('037', 13.091394707387591)\n",
            "('057', 21.20427555412232)\n",
            "('040', 22.244073740393187)\n",
            "('097', 22.538592806128644)\n",
            "('074', 24.003081656197455)\n",
            "\n",
            "Test User: 010\n",
            "Nearest Neighbors (UserID, Distance):\n",
            "('045', 0.9294650748919102)\n",
            "('039', 2.3192020664125126)\n",
            "('088', 3.080766829923215)\n",
            "('013', 3.1575962695036384)\n",
            "('090', 4.197068574062673)\n",
            "('016', 5.6787781000897954)\n",
            "('037', 6.426645715140143)\n",
            "('060', 9.069423237991646)\n",
            "('098', 9.446830344104635)\n",
            "('032', 9.546212731486403)\n",
            "('023', 11.661903789690609)\n",
            "('035', 12.178164570562009)\n",
            "('015', 12.797235278341603)\n",
            "('057', 14.5337802801188)\n",
            "('048', 15.096533557204035)\n",
            "('040', 15.523412362008175)\n",
            "('097', 15.784420451637843)\n",
            "('080', 15.98316421931333)\n",
            "('044', 16.326911751377807)\n",
            "('074', 17.2597626948931)\n",
            "\n"
          ]
        }
      ]
    },
    {
      "cell_type": "code",
      "source": [
        "# 结果2：\n",
        "# Initialize dictionary to store nearest neighbors\n",
        "nearest_neighbors = {}\n",
        "\n",
        "# Calculate Euclidean distance for each test user against all remaining users\n",
        "for test_user_id in test_user_ids:\n",
        "    # Get data for the test user\n",
        "    test_user_data = test_users_df[test_users_df[\"UserID\"] == test_user_id][[\"PurchaseAmount\", \"PurchaseCount\"]]\n",
        "\n",
        "    # Calculate the mean purchase behavior for the test user\n",
        "    test_user_vector = test_user_data.mean().values.reshape(1, -1)\n",
        "\n",
        "    # Store neighbors for current test user\n",
        "    neighbors_list = []\n",
        "\n",
        "    for remaining_user_id in remaining_user_ids:\n",
        "        # Get data for the remaining user\n",
        "        remaining_user_data = remaining_users_df[remaining_users_df[\"UserID\"] == remaining_user_id][[\"PurchaseAmount\", \"PurchaseCount\"]]\n",
        "\n",
        "        # Calculate the mean purchase behavior for the remaining user\n",
        "        remaining_user_vector = remaining_user_data.mean().values.reshape(1, -1)\n",
        "\n",
        "        # Compute Euclidean distance between test user and remaining user\n",
        "        distance = cdist(test_user_vector, remaining_user_vector, metric='euclidean')[0][0]\n",
        "\n",
        "        # Append user and distance to the list\n",
        "        neighbors_list.append((remaining_user_id, distance))\n",
        "\n",
        "    # Sort the neighbors list by distance and take the 20 nearest neighbors\n",
        "    neighbors_list = sorted(neighbors_list, key=lambda x: x[1])[:20]\n",
        "\n",
        "    # Store the result for the current test user\n",
        "    nearest_neighbors[test_user_id] = [user_id for user_id, _ in neighbors_list]\n",
        "\n",
        "# Initialize a DataFrame to store the average purchase amount differences\n",
        "difference_df = pd.DataFrame()\n",
        "\n",
        "# Calculate the differences in average purchase amounts for each period\n",
        "for test_user_id in test_user_ids:\n",
        "    # Get data for the test user\n",
        "    test_user_data = test_users_df[test_users_df[\"UserID\"] == test_user_id]\n",
        "\n",
        "    # Calculate average purchase amount per period for the test user\n",
        "    test_user_avg = test_user_data.groupby(\"Period\")[\"PurchaseAmount\"].mean().reset_index()\n",
        "    test_user_avg.rename(columns={\"PurchaseAmount\": \"TestUserAvgPurchase\"}, inplace=True)\n",
        "\n",
        "    # Get the control users for the test user\n",
        "    control_users = nearest_neighbors[test_user_id]\n",
        "\n",
        "    # Filter data for the control users\n",
        "    control_users_data = remaining_users_df[remaining_users_df[\"UserID\"].isin(control_users)]\n",
        "\n",
        "    # Calculate average purchase amount per period for control users\n",
        "    control_users_avg = control_users_data.groupby(\"Period\")[\"PurchaseAmount\"].mean().reset_index()\n",
        "    control_users_avg.rename(columns={\"PurchaseAmount\": \"ControlUsersAvgPurchase\"}, inplace=True)\n",
        "\n",
        "    # Merge the data for test user and control users\n",
        "    merged_df = pd.merge(test_user_avg, control_users_avg, on=\"Period\")\n",
        "    merged_df[\"Difference\"] = merged_df[\"TestUserAvgPurchase\"] - merged_df[\"ControlUsersAvgPurchase\"]\n",
        "    merged_df[\"TestUserID\"] = test_user_id\n",
        "\n",
        "    # Append to the result DataFrame\n",
        "    difference_df = pd.concat([difference_df, merged_df], ignore_index=True)\n",
        "\n",
        "# Print the resulting DataFrame with differences\n",
        "print(difference_df)"
      ],
      "metadata": {
        "colab": {
          "base_uri": "https://localhost:8080/"
        },
        "id": "ZxU3i7iKLEg_",
        "outputId": "e07f1f6e-26bc-46ed-d6d4-0c9aad8ff53a"
      },
      "execution_count": null,
      "outputs": [
        {
          "output_type": "stream",
          "name": "stdout",
          "text": [
            "     Period  TestUserAvgPurchase  ControlUsersAvgPurchase  Difference  \\\n",
            "0         1                684.0                   603.35       80.65   \n",
            "1         2                629.0                   547.45       81.55   \n",
            "2         3                835.0                   420.15      414.85   \n",
            "3         4                359.0                   531.70     -172.70   \n",
            "4         5                723.0                   616.30      106.70   \n",
            "..      ...                  ...                      ...         ...   \n",
            "125       9                297.0                   566.15     -269.15   \n",
            "126      10                814.0                   590.85      223.15   \n",
            "127      11                876.0                   501.10      374.90   \n",
            "128      12                799.0                   536.15      262.85   \n",
            "129      13                394.0                   444.00      -50.00   \n",
            "\n",
            "    TestUserID  \n",
            "0          001  \n",
            "1          001  \n",
            "2          001  \n",
            "3          001  \n",
            "4          001  \n",
            "..         ...  \n",
            "125        010  \n",
            "126        010  \n",
            "127        010  \n",
            "128        010  \n",
            "129        010  \n",
            "\n",
            "[130 rows x 5 columns]\n"
          ]
        }
      ]
    },
    {
      "cell_type": "code",
      "source": [
        "# 结果3：\n",
        "# Initialize dictionary to store nearest neighbors\n",
        "nearest_neighbors = {}\n",
        "\n",
        "# Calculate Euclidean distance for each test user against all remaining users\n",
        "for test_user_id in test_user_ids:\n",
        "    # Get data for the test user\n",
        "    test_user_data = test_users_df[test_users_df[\"UserID\"] == test_user_id][[\"PurchaseAmount\", \"PurchaseCount\"]]\n",
        "\n",
        "    # Calculate the mean purchase behavior for the test user\n",
        "    test_user_vector = test_user_data.mean().values.reshape(1, -1)\n",
        "\n",
        "    # Store neighbors for current test user\n",
        "    neighbors_list = []\n",
        "\n",
        "# for test_user_id in test_user_ids:\n",
        "#     test_user_data = test_users_df[test_users_df[\"UserID\"] == test_user_id][[\"PurchaseAmount\", \"PurchaseCount\"]]\n",
        "#     test_user_vector = test_user_data.mean().values.reshape(1, -1)\n",
        "#     neighbors_list = []\n",
        "\n",
        "    for remaining_user_id in remaining_user_ids:\n",
        "        # Get data for the remaining user\n",
        "        remaining_user_data = remaining_users_df[remaining_users_df[\"UserID\"] == remaining_user_id][[\"PurchaseAmount\", \"PurchaseCount\"]]\n",
        "\n",
        "        # Calculate the mean purchase behavior for the remaining user\n",
        "        remaining_user_vector = remaining_user_data.mean().values.reshape(1, -1)\n",
        "\n",
        "        # Compute Euclidean distance between test user and remaining user\n",
        "        distance = cdist(test_user_vector, remaining_user_vector, metric='euclidean')[0][0]\n",
        "\n",
        "        # Append user and distance to the list\n",
        "        neighbors_list.append((remaining_user_id, distance))\n",
        "\n",
        "    # Sort the neighbors list by distance and take the 20 nearest neighbors\n",
        "    neighbors_list = sorted(neighbors_list, key=lambda x: x[1])[:20]\n",
        "\n",
        "    # Store the result for the current test user\n",
        "    nearest_neighbors[test_user_id] = [user_id for user_id, _ in neighbors_list]\n",
        "\n",
        "# Initialize a DataFrame to store the average purchase amount differences\n",
        "summary_df = pd.DataFrame(columns=[\"TestUserID\", \"TestUserAvg\", \"ControlUsersAvg\"])\n",
        "\n",
        "# Calculate the averages for each test user and their 20 nearest control users\n",
        "for test_user_id in test_user_ids:\n",
        "    # Get data for the test user\n",
        "    test_user_data = test_users_df[test_users_df[\"UserID\"] == test_user_id]\n",
        "\n",
        "    # Calculate overall average purchase amount for the test user over 13 periods\n",
        "    test_user_avg = test_user_data.groupby(\"Period\")[\"PurchaseAmount\"].mean().mean()\n",
        "\n",
        "    # Get the control users for the test user\n",
        "    control_users = nearest_neighbors[test_user_id]\n",
        "\n",
        "    # Filter data for the control users\n",
        "    control_users_data = remaining_users_df[remaining_users_df[\"UserID\"].isin(control_users)]\n",
        "\n",
        "    # Calculate the average purchase amount for each control user over 13 periods\n",
        "    control_user_avg_per_user = control_users_data.groupby([\"UserID\", \"Period\"])[\"PurchaseAmount\"].mean().groupby(\"UserID\").mean()\n",
        "\n",
        "    # Calculate the average of these averages across the 20 control users\n",
        "    control_users_avg = control_user_avg_per_user.mean()\n",
        "\n",
        "   # Store the result for the current test user\n",
        "    summary_df = pd.concat([summary_df, pd.DataFrame({\"TestUserID\": [test_user_id],\n",
        "                                                      \"TestUserAvg\": [test_user_avg],\n",
        "                                                      \"ControlUsersAvg\": [control_users_avg]})], ignore_index=True)\n",
        "\n",
        "# Print the resulting DataFrame with averages\n",
        "print(summary_df)"
      ],
      "metadata": {
        "colab": {
          "base_uri": "https://localhost:8080/"
        },
        "id": "rIbY1oacLEm4",
        "outputId": "78fbb3be-aec1-418c-a13c-c3d71bea8b99"
      },
      "execution_count": null,
      "outputs": [
        {
          "output_type": "stream",
          "name": "stdout",
          "text": [
            "  TestUserID  TestUserAvg  ControlUsersAvg\n",
            "0        001   518.615385       514.092308\n",
            "1        002   664.307692       618.576923\n",
            "2        003   593.076923       582.803846\n",
            "3        004   562.307692       560.619231\n",
            "4        005   638.230769       611.146154\n",
            "5        006   463.076923       463.596154\n",
            "6        007   524.153846       524.076923\n",
            "7        008   634.384615       611.146154\n",
            "8        009   505.000000       508.861538\n",
            "9        010   511.769231       508.861538\n"
          ]
        },
        {
          "output_type": "stream",
          "name": "stderr",
          "text": [
            "<ipython-input-26-6e9696f554bc>:59: FutureWarning: The behavior of DataFrame concatenation with empty or all-NA entries is deprecated. In a future version, this will no longer exclude empty or all-NA columns when determining the result dtypes. To retain the old behavior, exclude the relevant entries before the concat operation.\n",
            "  summary_df = pd.concat([summary_df, pd.DataFrame({\"TestUserID\": [test_user_id],\n"
          ]
        }
      ]
    },
    {
      "cell_type": "code",
      "source": [
        "summary_df['pre_period_diff'] = summary_df['TestUserAvg'] - summary_df['ControlUsersAvg']\n",
        "\n",
        "# Print the updated DataFrame\n",
        "print(summary_df)"
      ],
      "metadata": {
        "colab": {
          "base_uri": "https://localhost:8080/"
        },
        "id": "fRieoSIZVQZN",
        "outputId": "b115833d-eaf3-454c-852c-b3f5f7f82078"
      },
      "execution_count": null,
      "outputs": [
        {
          "output_type": "stream",
          "name": "stdout",
          "text": [
            "  TestUserID  TestUserAvg  ControlUsersAvg  pre_period_diff\n",
            "0        001   518.615385       514.092308         4.523077\n",
            "1        002   664.307692       618.576923        45.730769\n",
            "2        003   593.076923       582.803846        10.273077\n",
            "3        004   562.307692       560.619231         1.688462\n",
            "4        005   638.230769       611.146154        27.084615\n",
            "5        006   463.076923       463.596154        -0.519231\n",
            "6        007   524.153846       524.076923         0.076923\n",
            "7        008   634.384615       611.146154        23.238462\n",
            "8        009   505.000000       508.861538        -3.861538\n",
            "9        010   511.769231       508.861538         2.907692\n"
          ]
        }
      ]
    },
    {
      "cell_type": "code",
      "source": [],
      "metadata": {
        "id": "WHpjz83kVQep"
      },
      "execution_count": null,
      "outputs": []
    },
    {
      "cell_type": "markdown",
      "source": [
        "Original version of increamental revenue:\n",
        "# Incremental revenue = min(max(User Sales - Control Sales - Lifetime Length *\n",
        "# Pre-Period Difference, 0), Total Upside sales)\n",
        "\n",
        "对应名词和概念转换为本案例中的名词和概念为：\n",
        "# Value=Test User Sales−(20 Nearest Control Users’ Sales Average)−Pre-Period Difference\n",
        "\n",
        "\n",
        "When incremetal revenue is 0, this formula get the result of 0 but not negative, means UPSIDE no need to return momey.\n",
        "\n",
        "\n",
        "# Upside-funded cash back = min(max(cash back earned - incremental profit, 0), cash back earned)\n",
        "\n",
        "# Profit-sharing fee = (profit share %) * (incremental profit - Tawa-funded cash back)\n"
      ],
      "metadata": {
        "id": "2Y9INCrC048_"
      }
    },
    {
      "cell_type": "code",
      "source": [],
      "metadata": {
        "id": "4dJIBNUaVQi6"
      },
      "execution_count": null,
      "outputs": []
    },
    {
      "cell_type": "markdown",
      "source": [
        "# 针对test user 001-010： 随机添加14期和15期的数据， 引导购买金额数据在14期呈增长趋势基于13期上升20%， 15期呈下降趋势，基于13期下降20%; 用户011-100， 购买金额和次数与13期保持不变\n"
      ],
      "metadata": {
        "id": "mLLSYHzG52NY"
      }
    },
    {
      "cell_type": "code",
      "source": [
        "# Extract unique user IDs from the DataFrame\n",
        "unique_user_ids = df[\"UserID\"].unique()\n",
        "\n",
        "# Initialize lists to store new period data\n",
        "new_data = {\n",
        "    \"UserID\": [],\n",
        "    \"Period\": [],\n",
        "    \"PurchaseAmount\": [],\n",
        "    \"PurchaseCount\": []\n",
        "}\n",
        "\n",
        "# Loop through each user ID to generate data for periods 14 and 15\n",
        "for user_id in unique_user_ids:\n",
        "    # Get the data for the user from period 13\n",
        "    period_13_data = df[(df[\"UserID\"] == user_id) & (df[\"Period\"] == 13)]\n",
        "\n",
        "    # Extract purchase amount and purchase count from period 13\n",
        "    purchase_amount_13 = period_13_data[\"PurchaseAmount\"].values[0]\n",
        "    purchase_count_13 = period_13_data[\"PurchaseCount\"].values[0]\n",
        "\n",
        "    if user_id in test_user_ids:  # For test users (001 to 010)\n",
        "        # Period 14: Increase PurchaseAmount by 20%\n",
        "        purchase_amount_14 = purchase_amount_13 * 1.20\n",
        "        # Period 15: Decrease PurchaseAmount by 20%\n",
        "        purchase_amount_15 = purchase_amount_13 * 0.80\n",
        "    else:  # For control users (011 to 100)\n",
        "        # Keep the same purchase amount for periods 14 and 15\n",
        "        purchase_amount_14 = purchase_amount_13\n",
        "        purchase_amount_15 = purchase_amount_13\n",
        "\n",
        "    # Append new data for Period 14\n",
        "    new_data[\"UserID\"].append(user_id)\n",
        "    new_data[\"Period\"].append(14)\n",
        "    new_data[\"PurchaseAmount\"].append(purchase_amount_14)\n",
        "    new_data[\"PurchaseCount\"].append(purchase_count_13)  # Keep same purchase count as period 13\n",
        "\n",
        "    # Append new data for Period 15\n",
        "    new_data[\"UserID\"].append(user_id)\n",
        "    new_data[\"Period\"].append(15)\n",
        "    new_data[\"PurchaseAmount\"].append(purchase_amount_15)\n",
        "    new_data[\"PurchaseCount\"].append(purchase_count_13)  # Keep same purchase count as period 13\n",
        "\n",
        "# Create DataFrame for new period data\n",
        "df_new_periods = pd.DataFrame(new_data)\n",
        "\n",
        "# Concatenate the new period data with the original DataFrame\n",
        "df = pd.concat([df, df_new_periods], ignore_index=True)\n",
        "\n",
        "# Print the updated DataFrame\n",
        "print(df)\n"
      ],
      "metadata": {
        "id": "aJEbl0zAVQp_",
        "colab": {
          "base_uri": "https://localhost:8080/"
        },
        "outputId": "43581d9f-c976-4f09-8ca8-0416329d058d"
      },
      "execution_count": null,
      "outputs": [
        {
          "output_type": "stream",
          "name": "stdout",
          "text": [
            "     UserID  Period  PurchaseAmount  PurchaseCount\n",
            "0       001       1           684.0             15\n",
            "1       001       2           629.0              0\n",
            "2       001       3           835.0              3\n",
            "3       001       4           359.0              9\n",
            "4       001       5           723.0             18\n",
            "...     ...     ...             ...            ...\n",
            "1695    098      15           980.0             12\n",
            "1696    099      14           474.0             16\n",
            "1697    099      15           474.0             16\n",
            "1698    100      14           999.0             11\n",
            "1699    100      15           999.0             11\n",
            "\n",
            "[1700 rows x 4 columns]\n"
          ]
        }
      ]
    },
    {
      "cell_type": "markdown",
      "source": [
        "# 计算出test user 和 control user 在第14期的购买金额差异值，以及15期的购买金额差异值"
      ],
      "metadata": {
        "id": "Q_K_rEpO8YbA"
      }
    },
    {
      "cell_type": "code",
      "source": [
        "# Extract data for Periods 14 and 15\n",
        "period_14_15_df = df[df[\"Period\"].isin([14, 15])]\n",
        "\n",
        "# Initialize a DataFrame to store the results\n",
        "results_df = pd.DataFrame(columns=[\"TestUserID\", \"Period\", \"TestUserAvg\", \"ControlUsersAvg\", \"Difference\"])\n",
        "\n",
        "# Loop through each test user\n",
        "for test_user_id in test_user_ids:\n",
        "    # Get data for the test user for periods 14 and 15\n",
        "    test_user_data_14_15 = period_14_15_df[(period_14_15_df[\"UserID\"] == test_user_id)]\n",
        "\n",
        "    # Calculate average purchase amount for the test user in periods 14 and 15\n",
        "    test_user_avg_14 = test_user_data_14_15[test_user_data_14_15[\"Period\"] == 14][\"PurchaseAmount\"].mean()\n",
        "    test_user_avg_15 = test_user_data_14_15[test_user_data_14_15[\"Period\"] == 15][\"PurchaseAmount\"].mean()\n",
        "\n",
        "    # Get control users for the test user\n",
        "    control_users = nearest_neighbors[test_user_id]\n",
        "\n",
        "    # Filter data for the control users for periods 14 and 15\n",
        "    control_users_data_14_15 = period_14_15_df[period_14_15_df[\"UserID\"].isin(control_users)]\n",
        "\n",
        "    # Calculate average purchase amount for the control users in periods 14 and 15\n",
        "    control_users_avg_14 = control_users_data_14_15[control_users_data_14_15[\"Period\"] == 14][\"PurchaseAmount\"].mean()\n",
        "    control_users_avg_15 = control_users_data_14_15[control_users_data_14_15[\"Period\"] == 15][\"PurchaseAmount\"].mean()\n",
        "\n",
        "    # Calculate the difference between test user and control users for each period\n",
        "    difference_14 = test_user_avg_14 - control_users_avg_14\n",
        "    difference_15 = test_user_avg_15 - control_users_avg_15\n",
        "\n",
        "    # Append results to the DataFrame\n",
        "    results_df = pd.concat([results_df, pd.DataFrame({\n",
        "        \"TestUserID\": [test_user_id, test_user_id],\n",
        "        \"Period\": [14, 15],\n",
        "        \"TestUserAvg\": [test_user_avg_14, test_user_avg_15],\n",
        "        \"ControlUsersAvg\": [control_users_avg_14, control_users_avg_15],\n",
        "        \"Difference\": [difference_14, difference_15]\n",
        "    })], ignore_index=True)\n",
        "\n",
        "# Print the results\n",
        "print(results_df)"
      ],
      "metadata": {
        "id": "JLAZiD3XVQtI",
        "colab": {
          "base_uri": "https://localhost:8080/"
        },
        "outputId": "9a5cd3b5-f5a5-4202-ba24-fba880d08c1c"
      },
      "execution_count": null,
      "outputs": [
        {
          "output_type": "stream",
          "name": "stdout",
          "text": [
            "   TestUserID Period  TestUserAvg  ControlUsersAvg  Difference\n",
            "0         001     14       86.400        427.68000  -341.28000\n",
            "1         001     15       59.400        359.64000  -300.24000\n",
            "2         002     14      292.800        746.24000  -453.44000\n",
            "3         002     15      201.300        627.52000  -426.22000\n",
            "4         003     14      516.000        596.97000   -80.97000\n",
            "5         003     15      354.750        501.99750  -147.24750\n",
            "6         004     14     1144.800        564.90500   579.89500\n",
            "7         004     15      787.050        475.03375   312.01625\n",
            "8         005     14     1087.200        774.29000   312.91000\n",
            "9         005     15      747.450        651.10750    96.34250\n",
            "10        006     14       96.000        586.08000  -490.08000\n",
            "11        006     15       66.000        492.84000  -426.84000\n",
            "12        007     14      994.800        438.46000   556.34000\n",
            "13        007     15      683.925        368.70500   315.22000\n",
            "14        008     14     1006.800        774.29000   232.51000\n",
            "15        008     15      692.175        651.10750    41.06750\n",
            "16        009     14      739.200        488.40000   250.80000\n",
            "17        009     15      508.200        410.70000    97.50000\n",
            "18        010     14      472.800        488.40000   -15.60000\n",
            "19        010     15      325.050        410.70000   -85.65000\n"
          ]
        },
        {
          "output_type": "stream",
          "name": "stderr",
          "text": [
            "<ipython-input-34-eb2b587d4a9f>:31: FutureWarning: The behavior of DataFrame concatenation with empty or all-NA entries is deprecated. In a future version, this will no longer exclude empty or all-NA columns when determining the result dtypes. To retain the old behavior, exclude the relevant entries before the concat operation.\n",
            "  results_df = pd.concat([results_df, pd.DataFrame({\n"
          ]
        }
      ]
    },
    {
      "cell_type": "code",
      "source": [
        "print(control_users)"
      ],
      "metadata": {
        "colab": {
          "base_uri": "https://localhost:8080/"
        },
        "id": "LlGhiqhlA851",
        "outputId": "40d05a46-ed58-46fc-f65a-c19f800aa3fc"
      },
      "execution_count": null,
      "outputs": [
        {
          "output_type": "stream",
          "name": "stdout",
          "text": [
            "['045', '039', '088', '013', '090', '016', '037', '060', '098', '032', '023', '035', '015', '057', '048', '040', '097', '080', '044', '074']\n"
          ]
        }
      ]
    },
    {
      "cell_type": "code",
      "source": [
        "print(nearest_neighbors)"
      ],
      "metadata": {
        "colab": {
          "base_uri": "https://localhost:8080/"
        },
        "id": "ipjJf6zvBdkF",
        "outputId": "ac308b19-3738-4013-b520-f487e09c5472"
      },
      "execution_count": null,
      "outputs": [
        {
          "output_type": "stream",
          "name": "stdout",
          "text": [
            "{'001': ['037', '039', '057', '045', '040', '097', '088', '013', '090', '074', '028', '017', '016', '054', '060', '098', '032', '023', '035', '015'], '002': ['020', '072', '084', '055', '100', '043', '094', '099', '024', '079', '041', '052', '092', '059', '096', '069', '076', '068', '081', '065'], '003': ['059', '092', '096', '069', '076', '052', '041', '068', '081', '024', '065', '082', '025', '042', '086', '099', '094', '053', '036', '062'], '004': ['025', '042', '086', '082', '065', '053', '081', '036', '062', '068', '038', '076', '061', '070', '069', '012', '031', '078', '096', '059'], '005': ['100', '043', '055', '094', '099', '072', '020', '024', '041', '052', '092', '084', '059', '096', '069', '076', '068', '081', '065', '082'], '006': ['047', '075', '077', '087', '029', '085', '093', '022', '019', '066', '026', '014', '091', '064', '011', '050', '044', '080', '048', '018'], '007': ['057', '040', '097', '074', '028', '037', '017', '054', '039', '045', '078', '031', '012', '088', '090', '013', '016', '070', '061', '060'], '008': ['043', '099', '100', '094', '055', '072', '020', '024', '041', '052', '092', '059', '096', '084', '069', '076', '068', '081', '065', '082'], '009': ['016', '032', '060', '098', '013', '088', '090', '023', '035', '045', '015', '039', '048', '080', '044', '037', '057', '040', '097', '074'], '010': ['045', '039', '088', '013', '090', '016', '037', '060', '098', '032', '023', '035', '015', '057', '048', '040', '097', '080', '044', '074']}\n"
          ]
        }
      ]
    },
    {
      "cell_type": "code",
      "source": [
        "# Filter results where Period is 14\n",
        "period_14_results = results_df[results_df[\"Period\"] == 14]\n",
        "\n",
        "# Print the filtered DataFrame\n",
        "print(period_14_results)"
      ],
      "metadata": {
        "id": "TqfXnJIFVQwH",
        "colab": {
          "base_uri": "https://localhost:8080/"
        },
        "outputId": "3c27a77d-ccfa-4082-aa2e-c950aa982774"
      },
      "execution_count": null,
      "outputs": [
        {
          "output_type": "stream",
          "name": "stdout",
          "text": [
            "   TestUserID Period  TestUserAvg  ControlUsersAvg  Difference\n",
            "0         001     14         86.4          427.680    -341.280\n",
            "2         002     14        292.8          746.240    -453.440\n",
            "4         003     14        516.0          596.970     -80.970\n",
            "6         004     14       1144.8          564.905     579.895\n",
            "8         005     14       1087.2          774.290     312.910\n",
            "10        006     14         96.0          586.080    -490.080\n",
            "12        007     14        994.8          438.460     556.340\n",
            "14        008     14       1006.8          774.290     232.510\n",
            "16        009     14        739.2          488.400     250.800\n",
            "18        010     14        472.8          488.400     -15.600\n"
          ]
        }
      ]
    },
    {
      "cell_type": "code",
      "source": [
        "# Sum up all values in the \"Difference\" column\n",
        "total_difference_14 = period_14_results[\"Difference\"].sum()\n",
        "\n",
        "# Print the total difference\n",
        "print(total_difference_14)"
      ],
      "metadata": {
        "colab": {
          "base_uri": "https://localhost:8080/"
        },
        "id": "7FfOmVS0CV4F",
        "outputId": "eff5ee38-6a7f-4db6-e19d-cb589c2aaf17"
      },
      "execution_count": null,
      "outputs": [
        {
          "output_type": "stream",
          "name": "stdout",
          "text": [
            "551.085\n"
          ]
        }
      ]
    },
    {
      "cell_type": "code",
      "source": [
        "# Incremental revenue = min(max(User Sales - Control Sales - Lifetime Length * Pre-Period Difference, 0), Total Upside sales)"
      ],
      "metadata": {
        "id": "7f0c0Q4jDTmf"
      },
      "execution_count": null,
      "outputs": []
    },
    {
      "cell_type": "code",
      "source": [
        "#"
      ],
      "metadata": {
        "id": "BstHln-NDTxH"
      },
      "execution_count": null,
      "outputs": []
    },
    {
      "cell_type": "code",
      "source": [],
      "metadata": {
        "id": "A7nXkjZ4DT1A"
      },
      "execution_count": null,
      "outputs": []
    },
    {
      "cell_type": "code",
      "source": [
        "# Filter results where Period is 14\n",
        "period_15_results = results_df[results_df[\"Period\"] == 15]\n",
        "\n",
        "# Print the filtered DataFrame\n",
        "print(period_15_results)"
      ],
      "metadata": {
        "id": "kuVo4_mKVQ52",
        "colab": {
          "base_uri": "https://localhost:8080/"
        },
        "outputId": "ad1657a5-aac1-4305-80db-e4b4d145e0cc"
      },
      "execution_count": null,
      "outputs": [
        {
          "output_type": "stream",
          "name": "stdout",
          "text": [
            "   TestUserID Period  TestUserAvg  ControlUsersAvg  Difference\n",
            "1         001     15       59.400        359.64000  -300.24000\n",
            "3         002     15      201.300        627.52000  -426.22000\n",
            "5         003     15      354.750        501.99750  -147.24750\n",
            "7         004     15      787.050        475.03375   312.01625\n",
            "9         005     15      747.450        651.10750    96.34250\n",
            "11        006     15       66.000        492.84000  -426.84000\n",
            "13        007     15      683.925        368.70500   315.22000\n",
            "15        008     15      692.175        651.10750    41.06750\n",
            "17        009     15      508.200        410.70000    97.50000\n",
            "19        010     15      325.050        410.70000   -85.65000\n"
          ]
        }
      ]
    },
    {
      "cell_type": "code",
      "source": [
        "# Sum up all values in the \"Difference\" column\n",
        "total_difference_15 = period_15_results[\"Difference\"].sum()\n",
        "\n",
        "# Print the total difference\n",
        "print(total_difference_15)"
      ],
      "metadata": {
        "colab": {
          "base_uri": "https://localhost:8080/"
        },
        "id": "sc4Jdb3DCUim",
        "outputId": "894ac0dd-4937-40f8-f32b-1ff786603d6a"
      },
      "execution_count": null,
      "outputs": [
        {
          "output_type": "stream",
          "name": "stdout",
          "text": [
            "-524.05125\n"
          ]
        }
      ]
    },
    {
      "cell_type": "code",
      "source": [
        "# Assuming `period_14_15_df` contains the average purchase amounts for periods 14 and 15 for all users\n",
        "# Also assuming `nearest_neighbors` contains the 20 nearest control users for each test user\n",
        "# And `summary_df` contains the pre-period differences\n",
        "\n",
        "# Create a DataFrame to store the results\n",
        "final_results = pd.DataFrame(columns=[\"TestUserID\", \"Period\", \"CalculatedValue\"])\n",
        "\n",
        "# Loop through each test user\n",
        "for index, row in summary_df.iterrows():\n",
        "    test_user_id = row[\"TestUserID\"]\n",
        "\n",
        "    # Get the pre-period difference\n",
        "    pre_period_diff = row[\"TestUserAvg\"] - row[\"ControlUsersAvg\"]\n",
        "\n",
        "    # Get data for the test user for periods 14 and 15\n",
        "    test_user_data = period_14_15_df[period_14_15_df[\"UserID\"] == test_user_id]\n",
        "\n",
        "    # Get the average purchase amount for the test user for periods 14 and 15\n",
        "    test_user_avg_14 = test_user_data[test_user_data[\"Period\"] == 14][\"PurchaseAmount\"].mean()\n",
        "    test_user_avg_15 = test_user_data[test_user_data[\"Period\"] == 15][\"PurchaseAmount\"].mean()\n",
        "\n",
        "    # Get control users for the test user\n",
        "    control_users = nearest_neighbors[test_user_id]\n",
        "\n",
        "    # Filter data for the control users for periods 14 and 15\n",
        "    control_users_data = period_14_15_df[period_14_15_df[\"UserID\"].isin(control_users)]\n",
        "\n",
        "    # Calculate the average purchase amount for the control users in periods 14 and 15\n",
        "    control_users_avg_14 = control_users_data[control_users_data[\"Period\"] == 14][\"PurchaseAmount\"].mean()\n",
        "    control_users_avg_15 = control_users_data[control_users_data[\"Period\"] == 15][\"PurchaseAmount\"].mean()\n",
        "\n",
        "    # Calculate the final value for Period 14\n",
        "    value_14 = test_user_avg_14 - control_users_avg_14 - pre_period_diff\n",
        "\n",
        "    # Calculate the final value for Period 15\n",
        "    value_15 = test_user_avg_15 - control_users_avg_15 - pre_period_diff\n",
        "\n",
        "    # Append results to the DataFrame\n",
        "    final_results = pd.concat([final_results, pd.DataFrame({\n",
        "        \"TestUserID\": [test_user_id, test_user_id],\n",
        "        \"Period\": [14, 15],\n",
        "        \"CalculatedValue\": [value_14, value_15]\n",
        "    })], ignore_index=True)\n",
        "\n",
        "# Print the final results\n",
        "print(final_results)"
      ],
      "metadata": {
        "id": "DNG-krCaLEvt",
        "colab": {
          "base_uri": "https://localhost:8080/"
        },
        "outputId": "a0c21760-ad54-4757-ff9f-0e8d47db7e63"
      },
      "execution_count": null,
      "outputs": [
        {
          "output_type": "stream",
          "name": "stdout",
          "text": [
            "   TestUserID Period  CalculatedValue\n",
            "0         001     14      -345.803077\n",
            "1         001     15      -304.763077\n",
            "2         002     14      -499.170769\n",
            "3         002     15      -471.950769\n",
            "4         003     14       -91.243077\n",
            "5         003     15      -157.520577\n",
            "6         004     14       578.206538\n",
            "7         004     15       310.327788\n",
            "8         005     14       285.825385\n",
            "9         005     15        69.257885\n",
            "10        006     14      -489.560769\n",
            "11        006     15      -426.320769\n",
            "12        007     14       556.263077\n",
            "13        007     15       315.143077\n",
            "14        008     14       209.271538\n",
            "15        008     15        17.829038\n",
            "16        009     14       254.661538\n",
            "17        009     15       101.361538\n",
            "18        010     14       -18.507692\n",
            "19        010     15       -88.557692\n"
          ]
        },
        {
          "output_type": "stream",
          "name": "stderr",
          "text": [
            "<ipython-input-43-efee3cedc541>:39: FutureWarning: The behavior of DataFrame concatenation with empty or all-NA entries is deprecated. In a future version, this will no longer exclude empty or all-NA columns when determining the result dtypes. To retain the old behavior, exclude the relevant entries before the concat operation.\n",
            "  final_results = pd.concat([final_results, pd.DataFrame({\n"
          ]
        }
      ]
    },
    {
      "cell_type": "code",
      "source": [
        "# Filter results where Period is 14\n",
        "period_14_results = final_results[final_results[\"Period\"] == 14]\n",
        "\n",
        "# Print the filtered DataFrame\n",
        "print(period_14_results)"
      ],
      "metadata": {
        "colab": {
          "base_uri": "https://localhost:8080/"
        },
        "id": "qrFpfbfkHPR1",
        "outputId": "2067a142-8fb1-4c07-8a0f-55c1c8615538"
      },
      "execution_count": null,
      "outputs": [
        {
          "output_type": "stream",
          "name": "stdout",
          "text": [
            "   TestUserID Period  CalculatedValue\n",
            "0         001     14      -345.803077\n",
            "2         002     14      -499.170769\n",
            "4         003     14       -91.243077\n",
            "6         004     14       578.206538\n",
            "8         005     14       285.825385\n",
            "10        006     14      -489.560769\n",
            "12        007     14       556.263077\n",
            "14        008     14       209.271538\n",
            "16        009     14       254.661538\n",
            "18        010     14       -18.507692\n"
          ]
        }
      ]
    },
    {
      "cell_type": "code",
      "source": [
        "# Sum up all values in the \"Difference\" column\n",
        "total_difference_14 = period_14_results[\"CalculatedValue\"].sum()\n",
        "\n",
        "# Print the total difference\n",
        "print(total_difference_14)"
      ],
      "metadata": {
        "colab": {
          "base_uri": "https://localhost:8080/"
        },
        "id": "RYLqcaBfHPVN",
        "outputId": "039cad95-c43f-43e9-fbfc-13d24f4837fe"
      },
      "execution_count": null,
      "outputs": [
        {
          "output_type": "stream",
          "name": "stdout",
          "text": [
            "439.9426923076924\n"
          ]
        }
      ]
    },
    {
      "cell_type": "code",
      "source": [
        "# Filter results where Period is 14\n",
        "period_15_results = final_results[final_results[\"Period\"] == 15]\n",
        "\n",
        "# Print the filtered DataFrame\n",
        "print(period_15_results)\n",
        "\n",
        "\n"
      ],
      "metadata": {
        "colab": {
          "base_uri": "https://localhost:8080/"
        },
        "id": "Pv6lnXpYHPYk",
        "outputId": "cbd1edbd-8482-46d6-e9bd-ae2664552856"
      },
      "execution_count": null,
      "outputs": [
        {
          "output_type": "stream",
          "name": "stdout",
          "text": [
            "   TestUserID Period  CalculatedValue\n",
            "1         001     15      -304.763077\n",
            "3         002     15      -471.950769\n",
            "5         003     15      -157.520577\n",
            "7         004     15       310.327788\n",
            "9         005     15        69.257885\n",
            "11        006     15      -426.320769\n",
            "13        007     15       315.143077\n",
            "15        008     15        17.829038\n",
            "17        009     15       101.361538\n",
            "19        010     15       -88.557692\n"
          ]
        }
      ]
    },
    {
      "cell_type": "code",
      "source": [
        "# Sum up all values in the \"Difference\" column\n",
        "total_difference_15 = period_15_results[\"CalculatedValue\"].sum()\n",
        "\n",
        "# Print the total difference\n",
        "print(total_difference_15)"
      ],
      "metadata": {
        "colab": {
          "base_uri": "https://localhost:8080/"
        },
        "id": "52IWXnraHPbd",
        "outputId": "64397763-8904-4116-a34f-6f4cf95e7580"
      },
      "execution_count": null,
      "outputs": [
        {
          "output_type": "stream",
          "name": "stdout",
          "text": [
            "-635.1935576923075\n"
          ]
        }
      ]
    },
    {
      "cell_type": "code",
      "source": [
        "# 带入 Incremental revenue = min(max(User Sales - Control Sales - Lifetime Length * Pre-Period Difference, 0), Total Upside sales)\n",
        "# 计算出001-010 userID 分别在第14， 15期的10位用户的购买总额， 即UPSIDE SALES\n",
        "\n",
        "\n",
        "# List of test users\n",
        "test_user_ids = [f\"{i:03d}\" for i in range(1, 11)]\n",
        "\n",
        "# Extract data for Periods 14 and 15\n",
        "period_14_15_df = df[df[\"Period\"].isin([14, 15])]\n",
        "\n",
        "# Initialize a DataFrame to store the results\n",
        "total_purchase_amounts = pd.DataFrame(columns=[\"TestUserID\", \"Period\", \"TotalPurchaseAmount\"])\n",
        "\n",
        "# Loop through each test user\n",
        "for test_user_id in test_user_ids:\n",
        "    # Filter data for the test user for periods 14 and 15\n",
        "    test_user_data = period_14_15_df[period_14_15_df[\"UserID\"] == test_user_id]\n",
        "\n",
        "    # Calculate total purchase amount for periods 14 and 15\n",
        "    total_amount_14 = test_user_data[test_user_data[\"Period\"] == 14][\"PurchaseAmount\"].sum()\n",
        "    total_amount_15 = test_user_data[test_user_data[\"Period\"] == 15][\"PurchaseAmount\"].sum()\n",
        "\n",
        "    # Append results to the DataFrame\n",
        "    total_purchase_amounts = pd.concat([total_purchase_amounts, pd.DataFrame({\n",
        "        \"TestUserID\": [test_user_id, test_user_id],\n",
        "        \"Period\": [14, 15],\n",
        "        \"TotalPurchaseAmount\": [total_amount_14, total_amount_15]\n",
        "    })], ignore_index=True)\n",
        "\n",
        "# Print the total purchase amounts\n",
        "print(total_purchase_amounts)\n"
      ],
      "metadata": {
        "colab": {
          "base_uri": "https://localhost:8080/"
        },
        "id": "HqTu1jKqHPey",
        "outputId": "9c7b2a93-6fc3-423e-f986-4797d51bdf5d"
      },
      "execution_count": null,
      "outputs": [
        {
          "output_type": "stream",
          "name": "stdout",
          "text": [
            "   TestUserID Period  TotalPurchaseAmount\n",
            "0         001     14               172.80\n",
            "1         001     15               118.80\n",
            "2         002     14               585.60\n",
            "3         002     15               402.60\n",
            "4         003     14              1032.00\n",
            "5         003     15               709.50\n",
            "6         004     14              2289.60\n",
            "7         004     15              1574.10\n",
            "8         005     14              2174.40\n",
            "9         005     15              1494.90\n",
            "10        006     14               192.00\n",
            "11        006     15               132.00\n",
            "12        007     14              1989.60\n",
            "13        007     15              1367.85\n",
            "14        008     14              2013.60\n",
            "15        008     15              1384.35\n",
            "16        009     14              1478.40\n",
            "17        009     15              1016.40\n",
            "18        010     14               945.60\n",
            "19        010     15               650.10\n"
          ]
        },
        {
          "output_type": "stream",
          "name": "stderr",
          "text": [
            "<ipython-input-49-5f27d3886534>:24: FutureWarning: The behavior of DataFrame concatenation with empty or all-NA entries is deprecated. In a future version, this will no longer exclude empty or all-NA columns when determining the result dtypes. To retain the old behavior, exclude the relevant entries before the concat operation.\n",
            "  total_purchase_amounts = pd.concat([total_purchase_amounts, pd.DataFrame({\n"
          ]
        }
      ]
    },
    {
      "cell_type": "code",
      "source": [
        "# Calculate the total purchase amount for periods 14 and 15 across all test users\n",
        "summary_totals = total_purchase_amounts.groupby(\"Period\")[\"TotalPurchaseAmount\"].sum().reset_index()\n",
        "\n",
        "# Print the aggregated totals\n",
        "print(summary_totals)"
      ],
      "metadata": {
        "colab": {
          "base_uri": "https://localhost:8080/"
        },
        "id": "SlH2pnKFHPht",
        "outputId": "1fc7d2a7-e128-4bf4-8314-0354da52b569"
      },
      "execution_count": null,
      "outputs": [
        {
          "output_type": "stream",
          "name": "stdout",
          "text": [
            "   Period  TotalPurchaseAmount\n",
            "0      14              12873.6\n",
            "1      15               8850.6\n"
          ]
        }
      ]
    },
    {
      "cell_type": "code",
      "source": [
        "#  14期：\n",
        "Incremental revenue = min(max(User Sales - Control Sales - Lifetime Length * Pre-Period Difference, 0), Total Upside sales)\n",
        "= min(max(439.9426*10， 0)，12873.6 )\n",
        "= 4399.426"
      ],
      "metadata": {
        "id": "Hw2ndgScHPo3"
      },
      "execution_count": null,
      "outputs": []
    },
    {
      "cell_type": "code",
      "source": [
        "#  15期：\n",
        "Incremental revenue = min(max(User Sales - Control Sales - Lifetime Length * Pre-Period Difference, 0), Total Upside sales)\n",
        "= min(max(-635.1935*10， 0)，12873.6 )\n",
        "= 0"
      ],
      "metadata": {
        "id": "ZP005z2OJh68"
      },
      "execution_count": null,
      "outputs": []
    },
    {
      "cell_type": "markdown",
      "source": [
        "#按原始公式，（暂时不考虑优惠券成本的前提下，需要在第14期实验对象销售对比上涨20%时候， 分给Upside 4399.426\n",
        "\n",
        "# 但是在第15期销售对比13期下降20%时候， 不用支付Upside, 但是Upside也无需返回大华"
      ],
      "metadata": {
        "id": "nbe3ZoUmKnja"
      }
    },
    {
      "cell_type": "code",
      "source": [
        "# 以上案例中， 总客户是100，upside 使用率是10%， 如果按照2%估算， 那就是月880; 预估一个月西雅图地区总客户数为5000， 那么增加销售为44000， 44000*35% =15400， 60多加店即诚意30 为462000 每月 （基于销量增加20%）\n",
        "# 如果销量增加5%， 即115500 每月， 假定35000的 cashback， 增加利润为 80000， 大华分得56000， Upside 分24000"
      ],
      "metadata": {
        "id": "iCAAmv38Jh-U"
      },
      "execution_count": null,
      "outputs": []
    },
    {
      "cell_type": "code",
      "source": [
        "count 总的transaction 次数，\n",
        "count 前6后4的group by 次数\n",
        "\n"
      ],
      "metadata": {
        "id": "xjZgLLaMJiBz"
      },
      "execution_count": null,
      "outputs": []
    },
    {
      "cell_type": "code",
      "source": [],
      "metadata": {
        "id": "BZ5zoA_IJiFQ"
      },
      "execution_count": null,
      "outputs": []
    }
  ]
}